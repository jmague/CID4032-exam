{
 "cells": [
  {
   "cell_type": "markdown",
   "metadata": {},
   "source": [
    "# <center>Initiation à la programmation (Python)</center>\n",
    "## <center>Devoir</center>"
   ]
  },
  {
   "cell_type": "markdown",
   "metadata": {},
   "source": [
    "Vous avez une collection de livres d'art. Vous prêtez régulièrement vos livres à vos amis et vous tenez à prendre note de qui vous a emprunté quel livre. Pour cela, vous avez un fichier, catalogue.txt, qui liste vos livres et, le cas échéant, le nom de la personne vous l'ayant emprunté. La \n",
    "### Exercice 1 (3 points)\n",
    "Le petit programme ci-dessous lit le fichier `catalogue.txt` et construit une liste `catalogue` de dictionnaires dans laquelle chaque dictionnaire représente un livre.\n",
    "\n",
    "Renommer les variables pour la rendre plus lisible. Quel est le type des variables b et c ?"
   ]
  },
  {
   "cell_type": "code",
   "execution_count": 4,
   "metadata": {
    "ExecuteTime": {
     "end_time": "2017-12-12T15:36:02.680440Z",
     "start_time": "2017-12-12T15:36:02.670646Z"
    }
   },
   "outputs": [],
   "source": [
    "a='catalogue.txt'\n",
    "catalogue=[]\n",
    "b={}\n",
    "c=open(a,encoding='utf8')\n",
    "for d in c:\n",
    "    if d!='\\n':\n",
    "        e,f=d.strip().split(':')\n",
    "        b[e]=f\n",
    "    else:\n",
    "        catalogue.append(b)\n",
    "        b={}"
   ]
  },
  {
   "cell_type": "markdown",
   "metadata": {},
   "source": [
    "### Exercice 2 (2 point)\n",
    "\n",
    "Comment peut-on connaitre le nombre de livres dans le catalogue ?"
   ]
  },
  {
   "cell_type": "code",
   "execution_count": null,
   "metadata": {},
   "outputs": [],
   "source": []
  },
  {
   "cell_type": "markdown",
   "metadata": {},
   "source": [
    "### Exercice 3 (2 points)\n",
    "La programme ci-dessous devrait afficher *Le livre est présent* si le livre dont le titre est indiqué par la variable `titre` est dans le catalogue, et *Le livre n'est pas présent* sinon. \n",
    "\n",
    "Remplacez les trois points d'intérogation par ce qu'il convient que faire le faire fonctionner."
   ]
  },
  {
   "cell_type": "code",
   "execution_count": null,
   "metadata": {
    "ExecuteTime": {
     "end_time": "2017-12-12T16:02:00.649093Z",
     "start_time": "2017-12-12T16:02:00.643051Z"
    }
   },
   "outputs": [],
   "source": [
    "titre=\"L'ombre de nos nuits\"\n",
    "\n",
    "trouvé=False\n",
    "for livre in catalogue:\n",
    "    if livre['???']==titre:\n",
    "        trouvé=True\n",
    "if trouvé:\n",
    "    print(\"Le livre est présent\")\n",
    "else:\n",
    "    print(\"Le livre n'est pas présent\")"
   ]
  },
  {
   "cell_type": "markdown",
   "metadata": {},
   "source": [
    "### Exercice 4 (2 points)\n",
    "La programme ci-dessous calcule le nombre de livres déjà empruntés. Malheureusement, il fonctionne pas... Expliquez l'erreur qui est provoquée et corrigez la programme"
   ]
  },
  {
   "cell_type": "code",
   "execution_count": null,
   "metadata": {
    "ExecuteTime": {
     "end_time": "2017-12-12T15:59:44.734796Z",
     "start_time": "2017-12-12T15:59:44.727083Z"
    }
   },
   "outputs": [],
   "source": [
    "for livre in catalogue:\n",
    "    if livre['Emprunté par']!='':\n",
    "        n+=1\n",
    "print(n)"
   ]
  },
  {
   "cell_type": "markdown",
   "metadata": {},
   "source": [
    "### Exercice 5 (4 points)\n",
    "La programme suivant affiche True si le livre ayant le titre `titre` est emprunté, False s'il ne l'est pas. Ajouter un commentaire à la fin de chaque ligne pour expliquer ce qu'elle fait. "
   ]
  },
  {
   "cell_type": "code",
   "execution_count": null,
   "metadata": {
    "ExecuteTime": {
     "end_time": "2017-12-12T18:05:10.282124Z",
     "start_time": "2017-12-12T18:05:10.272131Z"
    }
   },
   "outputs": [],
   "source": [
    "titre=\"Les peintres de Sienne\"\n",
    "for livre in catalogue:\n",
    "    if livre['Titre']==titre:\n",
    "        if livre['Emprunté par']!='':\n",
    "            print(True)\n",
    "        else:\n",
    "            print(False)\n",
    "        break"
   ]
  },
  {
   "cell_type": "markdown",
   "metadata": {},
   "source": [
    "### Exercice 6 (4 points)\n",
    "Le programme ci-dessou n'est pas totalement satisfaisant car si le titre n'est pas dans le catalogue, il n'affiche rien. Modifiez-le de manière à ce qu'il affiche le nom de l'emprunteur ou l'emprunteuse si le livre est emprunté, la chaîne de caractère `\"pas emprunté\"` si le livre n'est pas emprunté ou la chaine `\"titre inconnu\"` si le titre n'est pas dans le catalogue. "
   ]
  },
  {
   "cell_type": "markdown",
   "metadata": {},
   "source": [
    "### Exercice 7 (4 points)\n",
    "Compléter le programme ci-dessous pour qu'il construise la liste de tous les livres empruntés par la personne dont le nom est dans la variable `nom`. Par exemple, pour `Kerman`, la liste des livres qu'il a empruntés serait :\n",
    "```python\n",
    "['Tivoli',\n",
    " 'La Double Vie de Vermeer',\n",
    " 'Vide et plein',\n",
    " \"L'affaire Arnolfini\",\n",
    " \"Histoires d'oeils\"]\n",
    "```\n"
   ]
  },
  {
   "cell_type": "code",
   "execution_count": 17,
   "metadata": {},
   "outputs": [
    {
     "name": "stdout",
     "output_type": "stream",
     "text": [
      "[]\n"
     ]
    }
   ],
   "source": [
    "nom='Kerman'\n",
    "livresEmpruntés=[]\n",
    "for livre in catalogue:\n",
    "    pass\n",
    "print(livresEmpruntés)"
   ]
  },
  {
   "cell_type": "code",
   "execution_count": null,
   "metadata": {},
   "outputs": [],
   "source": []
  },
  {
   "cell_type": "markdown",
   "metadata": {},
   "source": [
    "### Exercice 8 (5 points)\n",
    "Ecrire un programme qui affiche pour chaque personne le nombre de livres qu'elle a empruntés. Idéalement, ils seraient affichés triés par le nombre de livres qu'ils ou elles ont emprunté.\n",
    "\n",
    "```python\n",
    "Auda a emprunté 6 livres\n",
    "Kerman a emprunté 5 livres\n",
    "Valiant a emprunté 5 livres\n",
    "Robert a emprunté 4 livres\n",
    "Byron a emprunté 4 livres\n",
    "Zurie a emprunté 3 livres\n",
    "Archaimbau a emprunté 3 livres\n",
    "Brigitte a emprunté 3 livres\n",
    "Ila a emprunté 3 livres\n",
    "Archard a emprunté 2 livres\n",
    "```\n",
    "\n",
    "Cet exercice est difficile. Il fait appel à des choses que l'on a peu voire pas vues en cours. \n",
    "\n",
    "Tout d'abord, vous allez certainement avoir besoin de tester si une clé est dans un dictionnaire. Cela se fait de la manière suivante:\n",
    "\n",
    "```python\n",
    "population={'Bordeaux' :1196122, 'Lyon' :2265375, 'Lille' :1182127}\n",
    "if 'Paris' in population:\n",
    "    print(population['Paris'])\n",
    "```\n",
    "\n",
    "Ensuite, copiez-collez le petit programme ci-dessous dans une cellule et regardez ce qu'il fait. Ca pourrait vous aider...\n",
    "\n",
    "```\n",
    "population={'Bordeaux' :1196122, 'Lyon' :2265375, 'Lille' :1182127}\n",
    "for ville,pop in sorted(population.items(), key=lambda x:x[1], reverse=True):\n",
    "    print(ville+ \" : \" + str(pop) + \" habitants\")\n",
    "```\n",
    "\n",
    "Si vous n'arrivez pas écrire ce programme, n'hésitez pas expliquer en français comment vous pensez qu'il faut s'y prendre, ou à proposer un programme qui ne fonctionne pas en expliquant pourquoi vous êtes bloqué-e... Tout élément de réflexion consitue un début de réponse !"
   ]
  },
  {
   "cell_type": "code",
   "execution_count": null,
   "metadata": {},
   "outputs": [],
   "source": []
  }
 ],
 "metadata": {
  "kernelspec": {
   "display_name": "Python 3 (ipykernel)",
   "language": "python",
   "name": "python3"
  },
  "language_info": {
   "codemirror_mode": {
    "name": "ipython",
    "version": 3
   },
   "file_extension": ".py",
   "mimetype": "text/x-python",
   "name": "python",
   "nbconvert_exporter": "python",
   "pygments_lexer": "ipython3",
   "version": "3.8.12"
  },
  "varInspector": {
   "cols": {
    "lenName": 16,
    "lenType": 16,
    "lenVar": 40
   },
   "kernels_config": {
    "python": {
     "delete_cmd_postfix": "",
     "delete_cmd_prefix": "del ",
     "library": "var_list.py",
     "varRefreshCmd": "print(var_dic_list())"
    },
    "r": {
     "delete_cmd_postfix": ") ",
     "delete_cmd_prefix": "rm(",
     "library": "var_list.r",
     "varRefreshCmd": "cat(var_dic_list()) "
    }
   },
   "types_to_exclude": [
    "module",
    "function",
    "builtin_function_or_method",
    "instance",
    "_Feature"
   ],
   "window_display": false
  }
 },
 "nbformat": 4,
 "nbformat_minor": 4
}
